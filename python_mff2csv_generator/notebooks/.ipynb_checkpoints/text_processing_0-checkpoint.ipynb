{
 "cells": [
  {
   "cell_type": "markdown",
   "metadata": {},
   "source": [
    "# Parsing the xml files for words"
   ]
  },
  {
   "cell_type": "markdown",
   "metadata": {},
   "source": [
    "### This charges all the events for the messages events in a pandas dataframe"
   ]
  },
  {
   "cell_type": "code",
   "execution_count": null,
   "metadata": {},
   "outputs": [],
   "source": [
    "# set up stuff\n",
    "%matplotlib inline\n",
    "%load_ext autoreload\n",
    "%autoreload 2\n",
    "\n",
    "import sys\n",
    "sys.path.append('../src/')\n",
    "from parse_xml import *"
   ]
  },
  {
   "cell_type": "code",
   "execution_count": null,
   "metadata": {
    "scrolled": true
   },
   "outputs": [],
   "source": [
    "# Compute a pandas data-frame with the time, word and type for the message send during the sleep\n",
    "events = get_events_from_xml()\n",
    "events.head()"
   ]
  },
  {
   "cell_type": "code",
   "execution_count": null,
   "metadata": {},
   "outputs": [],
   "source": [
    "from events_parser import table_night"
   ]
  },
  {
   "cell_type": "code",
   "execution_count": null,
   "metadata": {
    "scrolled": true
   },
   "outputs": [],
   "source": [
    "table_night(night=78)"
   ]
  },
  {
   "cell_type": "markdown",
   "metadata": {},
   "source": [
    "# Load the dreams.csv"
   ]
  },
  {
   "cell_type": "code",
   "execution_count": null,
   "metadata": {},
   "outputs": [],
   "source": [
    "import pandas as pd\n",
    "import os.path\n",
    "\n",
    "dreams_fname = '../data/derived/dreams.csv'\n",
    "if os.path.isfile(dreams_fname):\n",
    "    dreams = pd.read_csv(dreams_fname)\n",
    "else:\n",
    "    raise RuntimeError('you should pre-compute dreams.csv. Please run src/dream_parser.py')\n",
    "\n",
    "dreams.head()"
   ]
  },
  {
   "cell_type": "markdown",
   "metadata": {},
   "source": [
    "start pre-processing the events"
   ]
  },
  {
   "cell_type": "code",
   "execution_count": null,
   "metadata": {},
   "outputs": [],
   "source": [
    "# Combine both dataframes into single one. \n",
    "#\n",
    "# this is not really used, since is better to work with dreams and events\n",
    "assert len(dreams.night.unique()) == len(dreams.night)\n",
    "_dreams = dreams.copy().set_index('night')\n",
    "_events = events.copy().set_index('night')\n",
    "df = _events.join(_dreams).reset_index()\n",
    "del _dreams\n",
    "del _events\n",
    "df.dropna()"
   ]
  },
  {
   "cell_type": "markdown",
   "metadata": {},
   "source": [
    "Intersect Collect night event and report words"
   ]
  },
  {
   "cell_type": "code",
   "execution_count": null,
   "metadata": {
    "collapsed": true
   },
   "outputs": [],
   "source": [
    "def get_event_words(night_id):\n",
    "    return events[(events.type=='auto') & (events.night==night_id)].word.values\n",
    "\n",
    "def get_dream_report_words(night_id):\n",
    "    return set(dreams[dreams['night']==night_id].text.to_string().lower().split())\n",
    "\n",
    "def intersect_set_list(my_set, my_list):\n",
    "    return my_set.intersection(my_list)\n"
   ]
  },
  {
   "cell_type": "code",
   "execution_count": null,
   "metadata": {
    "scrolled": false
   },
   "outputs": [],
   "source": [
    "xx = pd.DataFrame(columns=[\"night\", \"event_words\", \"report_words\", \"intersection\"])\n",
    "for n in events.night.unique():\n",
    "    #kk = (n, get_event_words(n), )\n",
    "    #print(n)\n",
    "    #print(get_event_words(n))\n",
    "    #print(get_dream_report_words(n))\n",
    "    event_words = get_event_words(n)\n",
    "    report_words = get_dream_report_words(n)\n",
    "    intersection = intersect_set_list(report_words, event_words)\n",
    "    xx = xx.append({'night':n, 'event_words':event_words, 'report_words':report_words, 'intersection':intersection}, ignore_index=True)\n",
    "\n",
    "xx.set_index('night', drop=True, inplace=True)\n",
    "\n",
    "xx[xx['intersection'].values != set()]"
   ]
  },
  {
   "cell_type": "code",
   "execution_count": null,
   "metadata": {
    "collapsed": true
   },
   "outputs": [],
   "source": [
    "from gensim.models.wrappers import FastText\n",
    "\n",
    "model = FastText.load_fasttext_format('../data/raw/BIN/wiki.simple')"
   ]
  },
  {
   "cell_type": "code",
   "execution_count": null,
   "metadata": {
    "collapsed": true
   },
   "outputs": [],
   "source": [
    "def compute_cosdistance(groupslist):\n",
    "    event_words = groupslist[0]\n",
    "    report_words = groupslist[1]\n",
    "    _event_words = [w for w in event_words if w in model.wv.vocab]\n",
    "    _report_words = [w for w in list(report_words) if w in model.wv.vocab]\n",
    "    # print(_event_words)\n",
    "    # print(_report_words)\n",
    "    return model.n_similarity(_event_words, _report_words)"
   ]
  },
  {
   "cell_type": "code",
   "execution_count": null,
   "metadata": {},
   "outputs": [],
   "source": [
    "cos_distance = xx[[\"event_words\", \"report_words\"]].apply(func=compute_cosdistance, axis=1)\n",
    "xx[\"cos_distance\"] = cos_distance\n",
    "xx"
   ]
  },
  {
   "cell_type": "code",
   "execution_count": null,
   "metadata": {
    "collapsed": true
   },
   "outputs": [],
   "source": [
    "bs_distance = []\n",
    "for perm in range(1000):\n",
    "    yy = xx.copy()\n",
    "    yy.report_words = yy.report_words.values[np.random.permutation(len(yy))]\n",
    "    cos_distance = yy[[\"event_words\", \"report_words\"]].apply(func=compute_cosdistance, axis=1)\n",
    "    yy[\"cos_distance\"] = cos_distance\n",
    "    bs_distance.append(cos_distance)"
   ]
  },
  {
   "cell_type": "code",
   "execution_count": null,
   "metadata": {
    "collapsed": true
   },
   "outputs": [],
   "source": [
    "%matplotlib inline\n",
    "import matplotlib.pyplot as plt\n",
    "import scipy.stats as st"
   ]
  },
  {
   "cell_type": "code",
   "execution_count": null,
   "metadata": {},
   "outputs": [],
   "source": [
    "plt.figure(figsize=[10, 6])\n",
    "A = np.array(bs_distance).flatten()\n",
    "B = xx.cos_distance.values\n",
    "plt.hist(A, bins=100, range=[0, 1], alpha=0.5, normed=True, label='Bootstrap')\n",
    "plt.hist(B, bins=100, range=[0, 1], color='red', alpha=0.5, normed=True, label='Reality')\n",
    "plt.xlabel('Cosine distance')\n",
    "plt.ylabel('Probability')\n",
    "plt.legend()\n",
    "plt.title(st.mannwhitneyu(A,B))\n",
    "plt.show()"
   ]
  },
  {
   "cell_type": "markdown",
   "metadata": {},
   "source": [
    "# Samples"
   ]
  },
  {
   "cell_type": "code",
   "execution_count": null,
   "metadata": {},
   "outputs": [],
   "source": [
    "# Example\n",
    "sample = xx.iloc[50]\n",
    "#for word in sample.event_words:\n",
    "#    print(word)\n",
    "\n",
    "current_word = sample.event_words[1]\n",
    "print(current_word)\n",
    "\n",
    "# Test if a word is in the model\n",
    "print(current_word in model.wv.vocab)\n",
    "\n",
    "# Give the embedding of a given word\n",
    "print(model.wv[current_word])"
   ]
  },
  {
   "cell_type": "code",
   "execution_count": null,
   "metadata": {},
   "outputs": [],
   "source": [
    "sample = xx.iloc[50]\n",
    "# Compute cosine distance between two groups of words\n",
    "_event_words = [w for w in sample.event_words if w in model.wv.vocab]\n",
    "_report_words = [w for w in list(sample.report_words) if w in model.wv.vocab]\n",
    "print(_event_words)\n",
    "print(_report_words)\n",
    "model.n_similarity(_event_words, _report_words)"
   ]
  }
 ],
 "metadata": {
  "kernelspec": {
   "display_name": "Python 3",
   "language": "python",
   "name": "python3"
  },
  "language_info": {
   "codemirror_mode": {
    "name": "ipython",
    "version": 3
   },
   "file_extension": ".py",
   "mimetype": "text/x-python",
   "name": "python",
   "nbconvert_exporter": "python",
   "pygments_lexer": "ipython3",
   "version": "3.6.3"
  }
 },
 "nbformat": 4,
 "nbformat_minor": 2
}
