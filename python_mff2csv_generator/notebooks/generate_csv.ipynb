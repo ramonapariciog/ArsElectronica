{
 "cells": [
  {
   "cell_type": "markdown",
   "metadata": {},
   "source": [
    "# generate the csv files for events in eeg"
   ]
  },
  {
   "cell_type": "code",
   "execution_count": 1,
   "metadata": {},
   "outputs": [
    {
     "name": "stdout",
     "output_type": "stream",
     "text": [
      "2017-11-18 00:30:24\n",
      "2017-11-18 00:30:24\n",
      "0: 2017-11-18-00-50-47 305974 samples 1223.896 sec\n",
      "1: 2017-11-18-00-56-52 397041 samples 1588.164 sec\n",
      "2: 2017-11-18-01-34-08 956209 samples 3824.836 sec\n",
      "3: 2017-11-18-02-34-35 1862828 samples 7451.312 sec\n",
      "4: 2017-11-18-02-50-03 2094902 samples 8379.608 sec\n",
      "5: 2017-11-18-03-07-12 2352008 samples 9408.032 sec\n",
      "6: 2017-11-18-03-11-59 2423801 samples 9695.204 sec\n",
      "7: 2017-11-18-03-12-09 2426491 samples 9705.964 sec\n",
      "8: 2017-11-18-04-02-00 3174112 samples 12696.448 sec\n",
      "9: 2017-11-18-04-16-15 3387961 samples 13551.844 sec\n",
      "10: 2017-11-18-04-19-07 3430940 samples 13723.76 sec\n",
      "11: 2017-11-18-04-46-38 3843703 samples 15374.812 sec\n",
      "12: 2017-11-18-05-08-28 4171118 samples 16684.472 sec\n",
      "13: 2017-11-18-05-14-22 4259728 samples 17038.912 sec\n",
      "14: 2017-11-18-06-00-11 4946896 samples 19787.584 sec\n",
      "15: 2017-11-18-06-01-49 4971441 samples 19885.764 sec\n",
      "16: 2017-11-18-06-12-16 5128178 samples 20512.712 sec\n",
      "17: 2017-11-18-06-32-38 5433639 samples 21734.556 sec\n",
      "18: 2017-11-18-06-32-46 5435712 samples 21742.848 sec\n",
      "19: 2017-11-18-06-34-15 5457800 samples 21831.2 sec\n",
      "20: 2017-11-18-06-40-59 5558991 samples 22235.964 sec\n",
      "21: 2017-11-18-07-18-53 6127332 samples 24509.328 sec\n",
      "22: 2017-11-18-08-24-41 7114253 samples 28457.012 sec\n",
      "23: 2017-11-18-08-43-56 7403165 samples 29612.66 sec\n",
      "24: 2017-11-18-08-49-23 7484908 samples 29939.632 sec\n",
      "25: 2017-11-18-09-01-15 7662918 samples 30651.672 sec\n",
      "26: 2017-11-18-09-06-15 7737953 samples 30951.812 sec\n",
      "27: 2017-11-18-09-39-38 8238575 samples 32954.3 sec\n",
      "28: 2017-11-18-10-12-02 8724557 samples 34898.228 sec\n",
      "29: 2017-11-18-10-33-22 9044559 samples 36178.236 sec\n",
      "29: IndexError in 70, index 0 is out of bounds for axis 0 with size 0, 2017-11-18-10-33-22  9044559 samples 36178.236 sec\n",
      "2017-11-07 00:51:44\n",
      "2017-11-07 00:51:44\n",
      "0: 2017-11-07-00-53-34 27605 samples 110.42 sec\n",
      "1: 2017-11-07-01-02-17 158342 samples 633.368 sec\n",
      "2: 2017-11-07-01-19-46 420654 samples 1682.616 sec\n",
      "3: 2017-11-07-01-34-36 643177 samples 2572.708 sec\n",
      "4: 2017-11-07-01-47-39 838752 samples 3355.008 sec\n",
      "5: 2017-11-07-01-50-17 878387 samples 3513.548 sec\n",
      "6: 2017-11-07-02-13-17 1223344 samples 4893.376 sec\n"
     ]
    }
   ],
   "source": [
    "run mff2csv_words.py \"../data/raw/EEG\""
   ]
  }
 ],
 "metadata": {
  "kernelspec": {
   "display_name": "Python (base)",
   "language": "python",
   "name": "base"
  },
  "language_info": {
   "codemirror_mode": {
    "name": "ipython",
    "version": 3
   },
   "file_extension": ".py",
   "mimetype": "text/x-python",
   "name": "python",
   "nbconvert_exporter": "python",
   "pygments_lexer": "ipython3",
   "version": "3.6.3"
  }
 },
 "nbformat": 4,
 "nbformat_minor": 2
}
